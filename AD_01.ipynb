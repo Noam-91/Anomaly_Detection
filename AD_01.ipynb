{
 "metadata": {
  "language_info": {
   "codemirror_mode": {
    "name": "ipython",
    "version": 3
   },
   "file_extension": ".py",
   "mimetype": "text/x-python",
   "name": "python",
   "nbconvert_exporter": "python",
   "pygments_lexer": "ipython3",
   "version": "3.7.9-final"
  },
  "orig_nbformat": 2,
  "kernelspec": {
   "name": "python3",
   "display_name": "Python 3",
   "language": "python"
  }
 },
 "nbformat": 4,
 "nbformat_minor": 2,
 "cells": [
  {
   "cell_type": "code",
   "execution_count": 13,
   "metadata": {},
   "outputs": [],
   "source": [
    "import numpy as np\n",
    "import matplotlib.pyplot as plt\n",
    "import h5py\n",
    "from keras.layers import Input, Dense, Dropout\n",
    "from keras.models import Model, Sequential\n",
    "from sklearn.metrics import roc_curve, auc,roc_auc_score\n",
    "from sklearn.model_selection import train_test_split\n",
    "import pandas as pd\n",
    "from matplotlib import gridspec\n",
    "from scipy import stats"
   ]
  },
  {
   "source": [
    "## References\n",
    "[Paper](https://arxiv.org/pdf/2009.02205.pdf) <br>\n",
    "[Data](https://zenodo.org/record/4287694) <br>\n",
    "[Repo](https://github.com/bnachman/DCTRHunting/blob/master/CWoLaSimulationAssistedDecorrelation.ipynb) <br>\n"
   ],
   "cell_type": "markdown",
   "metadata": {}
  },
  {
   "source": [
    "# DATA"
   ],
   "cell_type": "markdown",
   "metadata": {}
  },
  {
   "cell_type": "code",
   "execution_count": 14,
   "metadata": {},
   "outputs": [
    {
     "output_type": "stream",
     "name": "stdout",
     "text": [
      "<KeysViewHDF5 ['df']>\n"
     ]
    }
   ],
   "source": [
    "f = h5py.File(\"data/anomaly_detection/events_anomalydetection_v2.features.h5\")\n",
    "print(f.keys())\n",
    "f.close()"
   ]
  },
  {
   "cell_type": "code",
   "execution_count": 15,
   "metadata": {},
   "outputs": [
    {
     "output_type": "execute_result",
     "data": {
      "text/plain": [
       "          pxj1         pyj1         pzj1         mj1      tau1j1     tau2j1  \\\n",
       "0 -1467.239990   611.502014   511.101990   38.896000    8.290660   4.836080   \n",
       "1 -1211.239990   347.315002   547.963013  389.532013  191.804001  99.562798   \n",
       "2 -1229.619995   649.857971     8.089170   72.155502   47.168098  37.243198   \n",
       "3  -693.304016 -1046.729980  1716.910034   55.797798   24.788601   6.890150   \n",
       "4 -1488.199951   -25.370100   -30.989700   84.891502   26.878799  15.517200   \n",
       "\n",
       "      tau3j1         pxj2        pyj2         pzj2         mj2      tau1j2  \\\n",
       "0   4.260190  1403.579956 -674.551025  -451.670990  237.893997   79.815102   \n",
       "1  70.872200   619.341003  -62.177299 -1944.040039   22.999201    8.042190   \n",
       "2  33.658199  1196.250000 -647.896973 -1283.109985   78.230698   15.292900   \n",
       "3   5.813390   747.961975  994.250000  -412.966003  359.113007  175.209000   \n",
       "4  13.260400  1415.640015   20.905100   223.630997   77.506500   57.986000   \n",
       "\n",
       "       tau2j2     tau3j2  label  \n",
       "0   21.010300  16.757601    0.0  \n",
       "1    6.335090   5.525360    0.0  \n",
       "2   13.944200  10.013500    0.0  \n",
       "3  103.500999  84.447098    0.0  \n",
       "4   34.147400  26.660601    0.0  "
      ],
      "text/html": "<div>\n<style scoped>\n    .dataframe tbody tr th:only-of-type {\n        vertical-align: middle;\n    }\n\n    .dataframe tbody tr th {\n        vertical-align: top;\n    }\n\n    .dataframe thead th {\n        text-align: right;\n    }\n</style>\n<table border=\"1\" class=\"dataframe\">\n  <thead>\n    <tr style=\"text-align: right;\">\n      <th></th>\n      <th>pxj1</th>\n      <th>pyj1</th>\n      <th>pzj1</th>\n      <th>mj1</th>\n      <th>tau1j1</th>\n      <th>tau2j1</th>\n      <th>tau3j1</th>\n      <th>pxj2</th>\n      <th>pyj2</th>\n      <th>pzj2</th>\n      <th>mj2</th>\n      <th>tau1j2</th>\n      <th>tau2j2</th>\n      <th>tau3j2</th>\n      <th>label</th>\n    </tr>\n  </thead>\n  <tbody>\n    <tr>\n      <th>0</th>\n      <td>-1467.239990</td>\n      <td>611.502014</td>\n      <td>511.101990</td>\n      <td>38.896000</td>\n      <td>8.290660</td>\n      <td>4.836080</td>\n      <td>4.260190</td>\n      <td>1403.579956</td>\n      <td>-674.551025</td>\n      <td>-451.670990</td>\n      <td>237.893997</td>\n      <td>79.815102</td>\n      <td>21.010300</td>\n      <td>16.757601</td>\n      <td>0.0</td>\n    </tr>\n    <tr>\n      <th>1</th>\n      <td>-1211.239990</td>\n      <td>347.315002</td>\n      <td>547.963013</td>\n      <td>389.532013</td>\n      <td>191.804001</td>\n      <td>99.562798</td>\n      <td>70.872200</td>\n      <td>619.341003</td>\n      <td>-62.177299</td>\n      <td>-1944.040039</td>\n      <td>22.999201</td>\n      <td>8.042190</td>\n      <td>6.335090</td>\n      <td>5.525360</td>\n      <td>0.0</td>\n    </tr>\n    <tr>\n      <th>2</th>\n      <td>-1229.619995</td>\n      <td>649.857971</td>\n      <td>8.089170</td>\n      <td>72.155502</td>\n      <td>47.168098</td>\n      <td>37.243198</td>\n      <td>33.658199</td>\n      <td>1196.250000</td>\n      <td>-647.896973</td>\n      <td>-1283.109985</td>\n      <td>78.230698</td>\n      <td>15.292900</td>\n      <td>13.944200</td>\n      <td>10.013500</td>\n      <td>0.0</td>\n    </tr>\n    <tr>\n      <th>3</th>\n      <td>-693.304016</td>\n      <td>-1046.729980</td>\n      <td>1716.910034</td>\n      <td>55.797798</td>\n      <td>24.788601</td>\n      <td>6.890150</td>\n      <td>5.813390</td>\n      <td>747.961975</td>\n      <td>994.250000</td>\n      <td>-412.966003</td>\n      <td>359.113007</td>\n      <td>175.209000</td>\n      <td>103.500999</td>\n      <td>84.447098</td>\n      <td>0.0</td>\n    </tr>\n    <tr>\n      <th>4</th>\n      <td>-1488.199951</td>\n      <td>-25.370100</td>\n      <td>-30.989700</td>\n      <td>84.891502</td>\n      <td>26.878799</td>\n      <td>15.517200</td>\n      <td>13.260400</td>\n      <td>1415.640015</td>\n      <td>20.905100</td>\n      <td>223.630997</td>\n      <td>77.506500</td>\n      <td>57.986000</td>\n      <td>34.147400</td>\n      <td>26.660601</td>\n      <td>0.0</td>\n    </tr>\n  </tbody>\n</table>\n</div>"
     },
     "metadata": {},
     "execution_count": 15
    }
   ],
   "source": [
    "filePath = \"data/anomaly_detection/events_anomalydetection_v2.features.h5\"\n",
    "data = pd.read_hdf(filePath, key='df')\n",
    "data.head()"
   ]
  },
  {
   "source": [
    "```diff\n",
    "background (1m) and 2-prong signal (100k)\n",
    "clustered every event into R=1 jets using the anti-kT algorithm.\n",
    "\n",
    "four features: m(j1), m(j2)-m(j1), τ21 (j1), τ21 (j2)\n",
    "    the invariant mass of the lighter jet\n",
    "    the mass difference of the leading two jets\n",
    "    the N-subjettiness τ21 of the leading two jets.\n",
    "extra features: mjj, label\n",
    "\n",
    "SR = signal region\n",
    "SB = sideband\n",
    "```"
   ],
   "cell_type": "markdown",
   "metadata": {}
  },
  {
   "cell_type": "code",
   "execution_count": 16,
   "metadata": {},
   "outputs": [
    {
     "output_type": "execute_result",
     "data": {
      "text/plain": [
       "         m_j1   m_j2-m_j1  tau21_j1  tau21_j2       mjj  label\n",
       "0   39.226722  198.997997  0.583317  0.263237  3.307219    0.0\n",
       "1  389.842775 -366.532812  0.519086  0.787732  3.107621    0.0\n",
       "2   72.455992    6.075195  0.789584  0.911809  3.004895    0.0\n",
       "3   56.121106  303.315208  0.277956  0.590729  3.233075    0.0\n",
       "4   85.183437   -7.385002  0.577303  0.588890  2.919346    0.0"
      ],
      "text/html": "<div>\n<style scoped>\n    .dataframe tbody tr th:only-of-type {\n        vertical-align: middle;\n    }\n\n    .dataframe tbody tr th {\n        vertical-align: top;\n    }\n\n    .dataframe thead th {\n        text-align: right;\n    }\n</style>\n<table border=\"1\" class=\"dataframe\">\n  <thead>\n    <tr style=\"text-align: right;\">\n      <th></th>\n      <th>m_j1</th>\n      <th>m_j2-m_j1</th>\n      <th>tau21_j1</th>\n      <th>tau21_j2</th>\n      <th>mjj</th>\n      <th>label</th>\n    </tr>\n  </thead>\n  <tbody>\n    <tr>\n      <th>0</th>\n      <td>39.226722</td>\n      <td>198.997997</td>\n      <td>0.583317</td>\n      <td>0.263237</td>\n      <td>3.307219</td>\n      <td>0.0</td>\n    </tr>\n    <tr>\n      <th>1</th>\n      <td>389.842775</td>\n      <td>-366.532812</td>\n      <td>0.519086</td>\n      <td>0.787732</td>\n      <td>3.107621</td>\n      <td>0.0</td>\n    </tr>\n    <tr>\n      <th>2</th>\n      <td>72.455992</td>\n      <td>6.075195</td>\n      <td>0.789584</td>\n      <td>0.911809</td>\n      <td>3.004895</td>\n      <td>0.0</td>\n    </tr>\n    <tr>\n      <th>3</th>\n      <td>56.121106</td>\n      <td>303.315208</td>\n      <td>0.277956</td>\n      <td>0.590729</td>\n      <td>3.233075</td>\n      <td>0.0</td>\n    </tr>\n    <tr>\n      <th>4</th>\n      <td>85.183437</td>\n      <td>-7.385002</td>\n      <td>0.577303</td>\n      <td>0.588890</td>\n      <td>2.919346</td>\n      <td>0.0</td>\n    </tr>\n  </tbody>\n</table>\n</div>"
     },
     "metadata": {},
     "execution_count": 16
    }
   ],
   "source": [
    "data_4feats = pd.DataFrame()\n",
    "data_4feats['m_j1'] = data['mj1']\n",
    "data_4feats['m_j2-m_j1'] = data['mj2']-data['mj1']\n",
    "data_4feats['tau21_j1'] = data['tau2j1'] / data['tau1j1']\n",
    "data_4feats['tau21_j2'] = data['tau2j2'] / data['tau1j2']\n",
    "data_4feats['mjj'] = (((data[\"pxj1\"]**2+data[\"pyj1\"]**2+data[\"pzj1\"]**2+data[\"mj1\"]**2)**0.5+(data[\"pxj2\"]**2+data[\"pyj2\"]**2+data[\"pzj2\"]**2+data[\"mj2\"]**2)**0.5)**2-(data[\"pxj1\"]+data[\"pxj2\"])**2-(data[\"pyj1\"]+data[\"pyj2\"])**2-(data[\"pzj1\"]+data[\"pzj2\"])**2)**0.5/1000.\n",
    "data_4feats['label'] = data['label']\n",
    "\n",
    "# the dependence between the jet masses and mjj is artificially strengthened by redefining  mj → mj + α*mjj for α = 0.1.\n",
    "data_4feats['m_j1'] = data_4feats['m_j1'] + 0.1 * data_4feats['mjj']\n",
    "data_4feats.head()"
   ]
  },
  {
   "cell_type": "code",
   "execution_count": 17,
   "metadata": {},
   "outputs": [],
   "source": [
    "sig = data_4feats[data_4feats['label']==1].to_numpy()[:,:-1]\n",
    "bg = data_4feats[data_4feats['label']==0].to_numpy()[:,:-1]"
   ]
  },
  {
   "cell_type": "code",
   "execution_count": 18,
   "metadata": {},
   "outputs": [],
   "source": [
    "# 1500 signal for training\n",
    "sig_inject = sig[:1500]\n",
    "sig_inject2 = sig[1500:3000]\n",
    "sig_test = sig[1500:]\n",
    "# half background for training                                  # bg1 - Pythia, bg2 - Herwig\n",
    "bg_inject = bg[:int(bg.shape[0]*.5)]\n",
    "bg_test = bg[int(bg.shape[0]*.5):]"
   ]
  },
  {
   "cell_type": "code",
   "execution_count": 19,
   "metadata": {},
   "outputs": [],
   "source": [
    "def getSR(data,SR_low,SR_high):\n",
    "    return data[(data[:,-1]>SR_low)*(data[:,-1]<SR_high)][:,:4]\n",
    "def getSB(data,SR_low,SR_high,SB_low,SB_high):\n",
    "    left = data[(data[:,-1]>SB_low)*(data[:,-1]<SR_low)][:,:4]\n",
    "    right = data[(data[:,-1]>SB_low)*(data[:,-1]<SR_low)][:,:4]\n",
    "    return left, right"
   ]
  },
  {
   "cell_type": "code",
   "execution_count": 20,
   "metadata": {},
   "outputs": [],
   "source": [
    "# signal region (mjj)\n",
    "SR_low = 3.3\n",
    "SR_high = 3.7\n",
    "\n",
    "sig_SR_train = getSR(sig_inject,SR_low,SR_high)\n",
    "sig_SR_test = getSR(sig_test,SR_low,SR_high)\n",
    "bg_SR_train = getSR(bg_inject,SR_low,SR_high)                   \n",
    "bg_SR_test = getSR(bg_test,SR_low,SR_high)                           # should also have bg2 part       \n",
    "\n",
    "# sideband (mjj)\n",
    "SB_low = 3.1\n",
    "SB_high = 3.9\n",
    "\n",
    "sig_SB_low,sig_SB_high = getSB(sig_inject,SR_low,SR_high,SB_low,SB_high)                    # inject + bg        \n",
    "bg_SB_low,bg_SB_high = getSB(bg_inject,SR_low,SR_high,SB_low,SB_high)\n",
    "\n",
    "sig_SB_low_test,sig_SB_high_test = getSB(sig_inject2,SR_low,SR_high,SB_low,SB_high)         # inject2 + bg2\n",
    "bg_SB_low_test,bg_SB_high_test = getSB(bg_test,SR_low,SR_high,SB_low,SB_high)                   \n"
   ]
  },
  {
   "cell_type": "code",
   "execution_count": 21,
   "metadata": {},
   "outputs": [],
   "source": [
    "X_train = np.concatenate([sig_SR_train,bg_SR_train,sig_SB_train,bg_SB_train])\n",
    "X_train = np.concatenate([sig_SR_train,bg_SR_train,sig_SB_low,bg_SB_low,sig_SB_high,bg_SB_high])\n",
    "Y_train = np.concatenate([np.ones(sig_SR_train.shape[0]),np.ones(sig_SB_train.shape[0]),np.zeros(bg_SR_test.shape[0]),np.zeros(bg_SR_test.shape[0])])\n",
    "\n",
    "X_test = np.concatenate([sig_SR_test,bg_SR_test])\n",
    "Y_test = np.concatenate([np.ones(sig_SR_test.shape[0]),np.zeros(bg_SR_test.shape[0])])"
   ]
  },
  {
   "cell_type": "code",
   "execution_count": null,
   "metadata": {},
   "outputs": [],
   "source": []
  },
  {
   "source": [
    "# MODEL"
   ],
   "cell_type": "markdown",
   "metadata": {}
  },
  {
   "cell_type": "code",
   "execution_count": 14,
   "metadata": {},
   "outputs": [
    {
     "output_type": "stream",
     "name": "stdout",
     "text": [
      "Model: \"CWoLA\"\n_________________________________________________________________\nLayer (type)                 Output Shape              Param #   \n=================================================================\ndense_21 (Dense)             (None, 64)                320       \n_________________________________________________________________\ndense_22 (Dense)             (None, 64)                4160      \n_________________________________________________________________\ndense_23 (Dense)             (None, 64)                4160      \n_________________________________________________________________\ndense_24 (Dense)             (None, 1)                 65        \n=================================================================\nTotal params: 8,705\nTrainable params: 8,705\nNon-trainable params: 0\n_________________________________________________________________\n"
     ]
    }
   ],
   "source": [
    "# CWoLa\n",
    "model_cwola = Sequential(name=\"CWoLA\")\n",
    "model_cwola.add(Dense(64, input_dim=4, activation='relu')) \n",
    "model_cwola.add(Dense(64, activation='relu'))\n",
    "model_cwola.add(Dense(64, activation='relu'))\n",
    "model_cwola.add(Dense(1, activation='sigmoid'))\n",
    "model_cwola.compile(loss='binary_crossentropy', optimizer='adam', metrics=['accuracy'])\n",
    "model_cwola.summary()"
   ]
  },
  {
   "cell_type": "code",
   "execution_count": 15,
   "metadata": {},
   "outputs": [
    {
     "output_type": "stream",
     "name": "stdout",
     "text": [
      "Model: \"SA CWoLA\"\n_________________________________________________________________\nLayer (type)                 Output Shape              Param #   \n=================================================================\ndense_25 (Dense)             (None, 64)                320       \n_________________________________________________________________\ndense_26 (Dense)             (None, 64)                4160      \n_________________________________________________________________\ndense_27 (Dense)             (None, 64)                4160      \n_________________________________________________________________\ndense_28 (Dense)             (None, 1)                 65        \n=================================================================\nTotal params: 8,705\nTrainable params: 8,705\nNon-trainable params: 0\n_________________________________________________________________\n"
     ]
    }
   ],
   "source": [
    "# simulation-augmented CWoLA\n",
    "model_sacwola = Sequential(name=\"SA CWoLA\")\n",
    "model_sacwola.add(Dense(64, input_dim=4, activation='relu')) \n",
    "model_sacwola.add(Dense(64, activation='relu'))\n",
    "model_sacwola.add(Dense(64, activation='relu'))\n",
    "model_sacwola.add(Dense(1, activation='sigmoid'))\n",
    "model_sacwola.compile(loss='binary_crossentropy', optimizer='adam', metrics=['accuracy'])\n",
    "model_sacwola.summary()"
   ]
  },
  {
   "cell_type": "code",
   "execution_count": null,
   "metadata": {},
   "outputs": [],
   "source": []
  }
 ]
}